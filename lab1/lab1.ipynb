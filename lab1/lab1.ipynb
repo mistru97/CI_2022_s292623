{
 "cells": [
  {
   "cell_type": "code",
   "execution_count": null,
   "metadata": {},
   "outputs": [],
   "source": [
    "N = 20\n",
    "SEED = 42\n",
    "beam = 20"
   ]
  },
  {
   "cell_type": "code",
   "execution_count": null,
   "metadata": {},
   "outputs": [],
   "source": [
    "import logging\n",
    "import random\n",
    "from math import exp\n",
    "import numpy as np\n",
    "from copy import copy, deepcopy\n",
    "from typing import Callable\n",
    "from gx_utils import *\n",
    "\n",
    "logging.basicConfig(format=\"%(message)s\", level=logging.INFO)"
   ]
  },
  {
   "cell_type": "code",
   "execution_count": null,
   "metadata": {},
   "outputs": [],
   "source": [
    "def problem(N, seed=None):\n",
    "    random.seed(seed)\n",
    "    return [\n",
    "        list(set(random.randint(0, N - 1) for n in range(random.randint(N // 5, N // 2))))\n",
    "        for n in range(random.randint(N, N * 5))\n",
    "    ]"
   ]
  },
  {
   "cell_type": "code",
   "execution_count": null,
   "metadata": {},
   "outputs": [],
   "source": [
    "class State:\n",
    "    def __init__(self, data: tuple):\n",
    "        self._data = tuple(data)\n",
    "\n",
    "    def __hash__(self):\n",
    "        return hash(bytes(self._data[0]))\n",
    "\n",
    "    def __eq__(self, other):\n",
    "        return bytes(self._data[0]) == bytes(other._data[0])\n",
    "\n",
    "    def __lt__(self, other):\n",
    "        return bytes(self._data[0]) < bytes(other._data[0])\n",
    "\n",
    "    def __str__(self):\n",
    "        return str(self._data)\n",
    "\n",
    "    def __repr__(self):\n",
    "        return repr(self._data)\n",
    "\n",
    "    @property\n",
    "    def data(self):\n",
    "        return self._data\n",
    "\n",
    "    def copy_data(self):\n",
    "        return (copy(self._data[0]), deepcopy(self._data[1]))"
   ]
  },
  {
   "cell_type": "code",
   "execution_count": null,
   "metadata": {},
   "outputs": [],
   "source": [
    "def search(\n",
    "    initial_state: State,\n",
    "    goal_test: Callable,\n",
    "    parent_state: dict,\n",
    "    state_cost: dict,\n",
    "    priority_function: Callable,\n",
    "    unit_cost: Callable,\n",
    "    max_cost = None\n",
    "):\n",
    "    frontier = PriorityQueue()\n",
    "    parent_state.clear()\n",
    "    state_cost.clear()\n",
    "\n",
    "    state = initial_state\n",
    "    parent_state[state] = None\n",
    "    state_cost[state] = 0\n",
    "\n",
    "    while state is not None and not goal_test(state):\n",
    "        for a in possible_actions(state):\n",
    "            # Beam search\n",
    "            if a > beam:\n",
    "                continue\n",
    "            new_state = result(state, a)\n",
    "            cost = unit_cost(state, a)\n",
    "            # limit diameter\n",
    "            if max_cost and state_cost[state] + cost > max_cost:\n",
    "                continue\n",
    "            if new_state not in state_cost and new_state not in frontier:\n",
    "                parent_state[new_state] = state\n",
    "                state_cost[new_state] = state_cost[state] + cost\n",
    "                frontier.push(new_state, p=priority_function(new_state))\n",
    "                logging.debug(f\"Added new node to frontier (cost={state_cost[new_state]})\")\n",
    "            elif new_state in frontier and state_cost[new_state] > state_cost[state] + cost:\n",
    "                old_cost = state_cost[new_state]\n",
    "                parent_state[new_state] = state\n",
    "                state_cost[new_state] = state_cost[state] + cost\n",
    "                logging.debug(f\"Updated node cost in frontier: {old_cost} -> {state_cost[new_state]}\")\n",
    "        if frontier:\n",
    "            state = frontier.pop()\n",
    "        else:\n",
    "            state = None\n",
    "\n",
    "    path = list()\n",
    "    s = state\n",
    "    while s:\n",
    "        path.append(s.copy_data())\n",
    "        s = parent_state[s]\n",
    "\n",
    "    logging.info(f\"Found a solution with {len(path):,} lists; visited {len(state_cost):,} states\")\n",
    "    logging.info(f\"number of elements in Ls: {state_cost[State(path[0])]}\")\n",
    "    return list(reversed(path))"
   ]
  },
  {
   "cell_type": "code",
   "execution_count": null,
   "metadata": {},
   "outputs": [],
   "source": [
    "GOAL = State((set(range(N)), None))\n",
    "\n",
    "def goal_test(state: State):\n",
    "    return state == GOAL\n",
    "logging.info(f\"Goal:\\n{GOAL}\")"
   ]
  },
  {
   "cell_type": "code",
   "execution_count": null,
   "metadata": {},
   "outputs": [],
   "source": [
    "def possible_actions(state: State):\n",
    "    return (a for a in range(len(state._data[1])))"
   ]
  },
  {
   "cell_type": "code",
   "execution_count": null,
   "metadata": {},
   "outputs": [],
   "source": [
    "def result (state: State, index):\n",
    "    occurence, _list = state.copy_data()\n",
    "    sublist = _list.pop(index)\n",
    "    occurence.update(sublist)\n",
    "    return State((occurence, _list))\n"
   ]
  },
  {
   "cell_type": "code",
   "execution_count": null,
   "metadata": {},
   "outputs": [],
   "source": [
    "INITIAL_STATE = State((set(), problem(N, SEED)))\n",
    "# logging.info(f\"Goal:\\n{INITIAL_STATE}\")"
   ]
  },
  {
   "cell_type": "markdown",
   "metadata": {},
   "source": [
    "## Breath-First"
   ]
  },
  {
   "cell_type": "code",
   "execution_count": null,
   "metadata": {},
   "outputs": [],
   "source": [
    "parent_state = dict()\n",
    "state_cost = dict()\n",
    "\n",
    "final = search(\n",
    "    INITIAL_STATE,\n",
    "    goal_test=goal_test,\n",
    "    parent_state=parent_state,\n",
    "    state_cost=state_cost,\n",
    "    priority_function=lambda s: len(state_cost),\n",
    "    unit_cost=lambda state, a: len(state._data[1][a]),\n",
    ")\n"
   ]
  },
  {
   "cell_type": "markdown",
   "metadata": {},
   "source": [
    "## Depth-First"
   ]
  },
  {
   "cell_type": "code",
   "execution_count": null,
   "metadata": {},
   "outputs": [],
   "source": [
    "parent_state = dict()\n",
    "state_cost = dict()\n",
    "\n",
    "final = search(\n",
    "    INITIAL_STATE,\n",
    "    goal_test=goal_test,\n",
    "    parent_state=parent_state,\n",
    "    state_cost=state_cost,\n",
    "    priority_function=lambda s: -len(state_cost),\n",
    "    unit_cost=lambda state, a: len(state._data[1][a]),\n",
    "    # max_cost=200\n",
    ")"
   ]
  },
  {
   "cell_type": "markdown",
   "metadata": {},
   "source": [
    "## A*"
   ]
  },
  {
   "cell_type": "code",
   "execution_count": null,
   "metadata": {},
   "outputs": [],
   "source": [
    "parent_state = dict()\n",
    "state_cost = dict()\n",
    "\n",
    "def h(s):\n",
    "    # possible numbers to be found\n",
    "    return N - len(s._data[0])\n",
    "\n",
    "\n",
    "final = search(\n",
    "    INITIAL_STATE,\n",
    "    goal_test=goal_test,\n",
    "    parent_state=parent_state,\n",
    "    state_cost=state_cost,\n",
    "    priority_function=lambda s: (state_cost[s] + h(s)),\n",
    "    unit_cost=lambda state, a: len(state._data[1][a]),\n",
    ")"
   ]
  }
 ],
 "metadata": {
  "kernelspec": {
   "display_name": "Python 3.10.6 ('ci22-Ec8jRjjb-py3.10')",
   "language": "python",
   "name": "python3"
  },
  "language_info": {
   "codemirror_mode": {
    "name": "ipython",
    "version": 3
   },
   "file_extension": ".py",
   "mimetype": "text/x-python",
   "name": "python",
   "nbconvert_exporter": "python",
   "pygments_lexer": "ipython3",
   "version": "3.10.6"
  },
  "orig_nbformat": 4,
  "vscode": {
   "interpreter": {
    "hash": "38d86b6ed134300853bf348acb3e38cf6fcb93b6dc135cf956cba358f5a737b3"
   }
  }
 },
 "nbformat": 4,
 "nbformat_minor": 2
}
