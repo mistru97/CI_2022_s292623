{
 "cells": [
  {
   "cell_type": "markdown",
   "metadata": {
    "pycharm": {
     "name": "#%% md\n"
    }
   },
   "source": [
    "Copyright **`(c)`** 2022 Giovanni Squillero `<squillero@polito.it>`  \n",
    "[`https://github.com/squillero/computational-intelligence`](https://github.com/squillero/computational-intelligence)  \n",
    "Free for personal or classroom use; see [`LICENSE.md`](https://github.com/squillero/computational-intelligence/blob/master/LICENSE.md) for details.  \n"
   ]
  },
  {
   "cell_type": "markdown",
   "metadata": {
    "pycharm": {
     "name": "#%%\n"
    }
   },
   "source": [
    "# Lab 3: Policy Search\n",
    "\n",
    "## Task\n",
    "\n",
    "Write agents able to play [*Nim*](https://en.wikipedia.org/wiki/Nim), with an arbitrary number of rows and an upper bound $k$ on the number of objects that can be removed in a turn (a.k.a., *subtraction game*).\n",
    "\n",
    "The player **taking the last object wins**.\n",
    "\n",
    "* Task3.1: An agent using fixed rules based on *nim-sum* (i.e., an *expert system*)\n",
    "* Task3.2: An agent using evolved rules\n",
    "* Task3.3: An agent using minmax\n",
    "* Task3.4: An agent using reinforcement learning\n",
    "\n",
    "## Instructions\n",
    "\n",
    "* Create the directory `lab3` inside the course repo \n",
    "* Put a `README.md` and your solution (all the files, code and auxiliary data if needed)\n",
    "\n",
    "## Notes\n",
    "\n",
    "* Working in group is not only allowed, but recommended (see: [Ubuntu](https://en.wikipedia.org/wiki/Ubuntu_philosophy) and [Cooperative Learning](https://files.eric.ed.gov/fulltext/EJ1096789.pdf)). Collaborations must be explicitly declared in the `README.md`.\n",
    "* [Yanking](https://www.emacswiki.org/emacs/KillingAndYanking) from the internet is allowed, but sources must be explicitly declared in the `README.md`.\n",
    "\n",
    "## Deadlines ([AoE](https://en.wikipedia.org/wiki/Anywhere_on_Earth))\n",
    "\n",
    "* Sunday, December 4th for Task3.1 and Task3.2\n",
    "* Sunday, December 11th for Task3.3 and Task3.4\n",
    "* Sunday, December 18th for all reviews"
   ]
  },
  {
   "cell_type": "code",
   "execution_count": 8,
   "metadata": {},
   "outputs": [],
   "source": [
    "import logging\n",
    "from collections import namedtuple\n",
    "import random\n",
    "from typing import Callable\n",
    "from copy import deepcopy\n",
    "from itertools import accumulate\n",
    "from operator import xor"
   ]
  },
  {
   "cell_type": "markdown",
   "metadata": {},
   "source": [
    "## The *Nim* and *Nimply* classes"
   ]
  },
  {
   "cell_type": "code",
   "execution_count": 9,
   "metadata": {},
   "outputs": [],
   "source": [
    "Nimply = namedtuple(\"Nimply\", \"row, num_objects\")"
   ]
  },
  {
   "cell_type": "code",
   "execution_count": 10,
   "metadata": {},
   "outputs": [],
   "source": [
    "class Nim:\n",
    "    def __init__(self, num_rows: int, k: int = None) -> None:\n",
    "        self._rows = [i * 2 + 1 for i in range(num_rows)]\n",
    "        self._k = k\n",
    "\n",
    "    def __bool__(self):\n",
    "        return sum(self._rows) > 0\n",
    "\n",
    "    def __str__(self):\n",
    "        return \"<\" + \" \".join(str(_) for _ in self._rows) + \">\"\n",
    "\n",
    "    @property\n",
    "    def rows(self) -> tuple:\n",
    "        return tuple(self._rows)\n",
    "\n",
    "    @property\n",
    "    def k(self) -> int:\n",
    "        return self._k\n",
    "\n",
    "    def nimming(self, ply: Nimply) -> None:\n",
    "        row, num_objects = ply\n",
    "        assert self._rows[row] >= num_objects\n",
    "        assert self._k is None or num_objects <= self._k\n",
    "        self._rows[row] -= num_objects"
   ]
  },
  {
   "cell_type": "markdown",
   "metadata": {},
   "source": [
    "## Sample (and silly) startegies "
   ]
  },
  {
   "cell_type": "code",
   "execution_count": 11,
   "metadata": {},
   "outputs": [],
   "source": [
    "def pure_random(state: Nim) -> Nimply:\n",
    "    row = random.choice([r for r, c in enumerate(state.rows) if c > 0])\n",
    "    num_objects = random.randint(1, state.rows[row])\n",
    "    return Nimply(row, num_objects)"
   ]
  },
  {
   "cell_type": "code",
   "execution_count": 12,
   "metadata": {},
   "outputs": [],
   "source": [
    "def gabriele(state: Nim) -> Nimply:\n",
    "    \"\"\"Pick always the maximum possible number of the lowest row\"\"\"\n",
    "    possible_moves = [(r, o) for r, c in enumerate(state.rows) for o in range(1, c + 1)]\n",
    "    return Nimply(*max(possible_moves, key=lambda m: (-m[0], m[1])))"
   ]
  },
  {
   "cell_type": "markdown",
   "metadata": {},
   "source": [
    "## Evaluation on *NUM_MATCHES* matches for *NIM_SIZE* size nim "
   ]
  },
  {
   "cell_type": "code",
   "execution_count": 13,
   "metadata": {},
   "outputs": [],
   "source": [
    "NUM_MATCHES = 100\n",
    "NIM_SIZE = 25\n",
    "\n",
    "logging.getLogger().setLevel(logging.DEBUG)\n",
    "\n",
    "def evaluate(strategy: Callable, opponent_strategy: Callable) -> float:\n",
    "    opponent = (strategy, opponent_strategy)\n",
    "    won = 0\n",
    "\n",
    "    for game_num in range(NUM_MATCHES):\n",
    "        # nim = Nim(NIM_SIZE)\n",
    "        nim = Nim(random.randint(10,20))\n",
    "        player = 1 if random.random() < 0.5 else 0\n",
    "        while nim:\n",
    "            ply = opponent[player](nim)\n",
    "            nim.nimming(ply)\n",
    "            player = 1 - player\n",
    "        if player == 1:\n",
    "            won += 1\n",
    "        # logging.debug(f\"end of game: {game_num + 1}\")\n",
    "    return won / NUM_MATCHES * 100"
   ]
  },
  {
   "cell_type": "markdown",
   "metadata": {},
   "source": [
    "## Oversimplified match"
   ]
  },
  {
   "cell_type": "code",
   "execution_count": 14,
   "metadata": {},
   "outputs": [],
   "source": [
    "# logging.getLogger().setLevel(logging.DEBUG)\n",
    "\n",
    "# strategy = (make_strategy({\"p\": 0.1}), optimal_startegy)\n",
    "\n",
    "# nim = Nim(11)\n",
    "# logging.debug(f\"status: Initial board  -> {nim}\")\n",
    "# player = 0\n",
    "# while nim:\n",
    "#     ply = strategy[player](nim)\n",
    "#     nim.nimming(ply)\n",
    "#     logging.debug(f\"status: After player {player} -> {nim}\")\n",
    "#     player = 1 - player\n",
    "# winner = 1 - player\n",
    "# logging.info(f\"status: Player {winner} won!\")"
   ]
  },
  {
   "cell_type": "markdown",
   "metadata": {},
   "source": [
    "## Task 1: expert system"
   ]
  },
  {
   "cell_type": "code",
   "execution_count": 15,
   "metadata": {},
   "outputs": [],
   "source": [
    "def nim_sum(state: Nim) -> int:\n",
    "    *_, result = accumulate(state.rows, xor)\n",
    "    return result"
   ]
  },
  {
   "cell_type": "code",
   "execution_count": 16,
   "metadata": {},
   "outputs": [],
   "source": [
    "def expert_strategy_nim(state: Nim) -> Nimply:\n",
    "    '''\n",
    "    Strategy that apply the nim sum on next move to select the best one\n",
    "    '''\n",
    "\n",
    "    max_row_num = 0 # hold the row number of row with max objects\n",
    "\n",
    "    for (row_num, num_objects) in enumerate(state.rows):\n",
    "        if state.rows[max_row_num] < num_objects:\n",
    "            max_row_num = row_num \n",
    "        for num_new_objects in range (1, state.k if (state._k != None and num_objects >= state.k) else num_objects+1):\n",
    "            next_move = (row_num, num_new_objects)\n",
    "            tmp_state = deepcopy(state)\n",
    "            tmp_state.nimming(next_move)\n",
    "            if nim_sum(tmp_state) == 0:\n",
    "                return next_move\n",
    "\n",
    "    # if do not find a nim_sum = 0 for next move do the move with less impact (remove 1 object from the row with most objects)\n",
    "    less_impact_move =  (max_row_num, 1)\n",
    "    return less_impact_move"
   ]
  },
  {
   "cell_type": "code",
   "execution_count": 17,
   "metadata": {},
   "outputs": [],
   "source": [
    "def expert_strategy(state: Nim) -> Nimply:\n",
    "    '''\n",
    "    My fixed strategy to play nim: the objective is to have in the end game all onece row and a odd number of rows\n",
    "    '''\n",
    "    longest_row = max((x for x in enumerate(state.rows)), key=lambda y: y[1])\n",
    "    onece_row_number = sum(o == 1 for o in state.rows)\n",
    "    active_row_number = sum(o > 0 for o in state.rows)\n",
    "\n",
    "    if onece_row_number % 2 == 1:\n",
    "        if active_row_number - onece_row_number > 0:\n",
    "            ply = (longest_row[0], longest_row[1] - 1) # make the longest row of 1 element\n",
    "        else:\n",
    "            ply = (longest_row[0], longest_row[1]) # zero one row\n",
    "    else:\n",
    "        ply = (longest_row[0], longest_row[1]) # zero one row\n",
    "\n",
    "    return ply\n"
   ]
  },
  {
   "cell_type": "code",
   "execution_count": 18,
   "metadata": {},
   "outputs": [],
   "source": [
    "def variable_expert_strategy() -> Nimply:\n",
    "    call = 0.\n",
    "    def call(state: Nim) -> Nimply:\n",
    "        max_row_num = 0 # hold the row number of row with max objects\n",
    "        p = call / NUM_MATCHES\n",
    "        call += 1\n",
    "        if random.random() < p:\n",
    "            for (row_num, num_objects) in enumerate(state.rows):\n",
    "                if state.rows[max_row_num] < num_objects:\n",
    "                    max_row_num = row_num \n",
    "                for num_new_objects in range (1, state.k if (state._k != None and num_objects >= state.k) else num_objects+1):\n",
    "                    next_move = (row_num, num_new_objects)\n",
    "                    tmp_state = deepcopy(state)\n",
    "                    tmp_state.nimming(next_move)\n",
    "                    if nim_sum(tmp_state) == 0:\n",
    "                        return next_move\n",
    "\n",
    "            # if do not find a nim_sum = 0 for next move do the move with less impact (remove 1 object from the row with most objects)\n",
    "            less_impact_move =  (max_row_num, 1)\n",
    "            return less_impact_move\n",
    "        else:\n",
    "            return pure_random(state)\n",
    "    return call\n"
   ]
  },
  {
   "cell_type": "code",
   "execution_count": 175,
   "metadata": {},
   "outputs": [
    {
     "name": "stderr",
     "output_type": "stream",
     "text": [
      "INFO:root:status: best strategy won vs random strategy 100.0% of matches\n",
      "INFO:root:status: expert player won vs random strategy 91.0% of matches\n"
     ]
    }
   ],
   "source": [
    "logging.getLogger().setLevel(logging.INFO)\n",
    "res = evaluate(expert_strategy_nim, pure_random)\n",
    "logging.info(f\"status: best strategy won vs random strategy {res}% of matches\")\n",
    "res = evaluate(expert_strategy, pure_random)\n",
    "logging.info(f\"status: expert player won vs random strategy {res}% of matches\")"
   ]
  },
  {
   "cell_type": "markdown",
   "metadata": {},
   "source": [
    "## Task 2: evolved strategy"
   ]
  },
  {
   "cell_type": "code",
   "execution_count": 19,
   "metadata": {},
   "outputs": [],
   "source": [
    "def cook_status(state: Nim) -> dict:\n",
    "    cooked = dict()\n",
    "    cooked[\"possible_moves\"] = [(r, o) for r, c in enumerate(state.rows) for o in range(1, state.k if (state._k != None and c >= state.k) else c+1)]\n",
    "    cooked[\"active_rows_number\"] = sum(o > 0 for o in state.rows)\n",
    "    cooked[\"once_rows_number\"] = sum(o == 1 for o in state.rows)\n",
    "    cooked[\"shortest_row\"] = min((x for x in enumerate(state.rows) if x[1] > 0), key=lambda y: y[1])[0]\n",
    "    cooked[\"longest_row\"] = max((x for x in enumerate(state.rows)), key=lambda y: y[1])\n",
    "\n",
    "    return cooked"
   ]
  },
  {
   "cell_type": "code",
   "execution_count": 181,
   "metadata": {},
   "outputs": [],
   "source": [
    "def make_strategy(genome: dict) -> Callable:\n",
    "    def evolvable(state: Nim) -> Nimply:\n",
    "        data = cook_status(state)\n",
    "\n",
    "        end_game_threshold = data[\"active_rows_number\"] / len(state.rows)\n",
    "        \n",
    "        if genome[\"end_game_p\"] > end_game_threshold:\n",
    "            if data[\"longest_row\"][1] > 1: # check if the longest row is grather than 1\n",
    "                ply = (data[\"longest_row\"][0], data[\"longest_row\"][1] - 1) # make the longest row of 1 element\n",
    "            else:\n",
    "                ply = (data[\"longest_row\"][0], data[\"longest_row\"][1]) # zero one row\n",
    "        elif data[\"once_rows_number\"] % 2 == 1:\n",
    "            if data[\"active_rows_number\"] - data[\"once_rows_number\"] > 0:\n",
    "                ply = (data[\"longest_row\"][0], data[\"longest_row\"][1] - 1) # make the longest row of 1 element\n",
    "            else:\n",
    "                ply = (data[\"longest_row\"][0], data[\"longest_row\"][1]) # zero one row\n",
    "        else:\n",
    "            ply = (data[\"longest_row\"][0], data[\"longest_row\"][1]) # zero one row\n",
    "\n",
    "        return ply\n",
    "\n",
    "    return evolvable"
   ]
  },
  {
   "cell_type": "code",
   "execution_count": 240,
   "metadata": {},
   "outputs": [
    {
     "name": "stderr",
     "output_type": "stream",
     "text": [
      "INFO:root:status: player won vs pure_random 95.0% of matches\n"
     ]
    }
   ],
   "source": [
    "logging.getLogger().setLevel(logging.INFO)\n",
    "\n",
    "player_strategy = make_strategy({\"end_game_p\" : 0.001})\n",
    "system_strategy = pure_random\n",
    "\n",
    "res = evaluate(player_strategy, system_strategy)\n",
    "logging.info(f\"status: player won vs {system_strategy.__name__} {res}% of matches\")"
   ]
  },
  {
   "cell_type": "code",
   "execution_count": 28,
   "metadata": {},
   "outputs": [],
   "source": [
    "POPULATION_SIZE = 50\n",
    "OFFSPRING_SIZE = 20\n",
    "N = 100"
   ]
  },
  {
   "cell_type": "code",
   "execution_count": 94,
   "metadata": {},
   "outputs": [],
   "source": [
    "def select_parent(population, tournament_size=2):\n",
    "    return max(random.choices(population, k=tournament_size), key= lambda i: i[1])\n",
    "\n",
    "def mutation(g):\n",
    "    tmp = deepcopy(g)\n",
    "\n",
    "    if random.random() < 0.5 and g[\"end_game_p\"] > 0.005:\n",
    "        tmp[\"end_game_p\"] = g[\"end_game_p\"] -0.005\n",
    "    elif g[\"end_game_p\"] <= 0.995:\n",
    "        tmp[\"end_game_p\"] = g[\"end_game_p\"] +0.005\n",
    "    return tmp"
   ]
  },
  {
   "cell_type": "code",
   "execution_count": 242,
   "metadata": {},
   "outputs": [],
   "source": [
    "def evaluate_mean(params):\n",
    "    wr = []\n",
    "    K = 5 # number of evaluation\n",
    "    for _ in range(K):\n",
    "        wr.append(evaluate(make_strategy(params), pure_random))\n",
    "    return sum(wr) / K"
   ]
  },
  {
   "cell_type": "code",
   "execution_count": 224,
   "metadata": {},
   "outputs": [],
   "source": [
    "def init_population():\n",
    "    return [(_, evaluate_mean(_)) for _ in [{\"end_game_p\": random.random()} for __ in range(POPULATION_SIZE)]]"
   ]
  },
  {
   "cell_type": "code",
   "execution_count": 226,
   "metadata": {},
   "outputs": [],
   "source": [
    "def evolve_strategy():\n",
    "    population = init_population()\n",
    "    generations = 0\n",
    "    while generations < N:\n",
    "        generations += 1\n",
    "        offspring = {}\n",
    "        while len(offspring) < OFFSPRING_SIZE:\n",
    "            p = select_parent(population)\n",
    "            m = mutation(p[0])\n",
    "            offspring[m[\"end_game_p\"]] = ((m, evaluate_mean(m)))\n",
    "        population = sorted(population + list(offspring.values()), key=lambda i: -i[1])[:POPULATION_SIZE]\n",
    "        logging.debug(f\"gen: {generations}, param: {population[0]}\")\n",
    "    return population[0]"
   ]
  },
  {
   "cell_type": "code",
   "execution_count": 227,
   "metadata": {},
   "outputs": [
    {
     "name": "stderr",
     "output_type": "stream",
     "text": [
      "DEBUG:root:gen: 1, param: ({'end_game_p': 0.04353971502607968}, 19.4)\n",
      "DEBUG:root:gen: 2, param: ({'end_game_p': 0.04353971502607968}, 19.4)\n",
      "DEBUG:root:gen: 3, param: ({'end_game_p': 0.04353971502607968}, 19.4)\n",
      "DEBUG:root:gen: 4, param: ({'end_game_p': 0.12857623549669617}, 20.0)\n",
      "DEBUG:root:gen: 5, param: ({'end_game_p': 0.12857623549669617}, 20.0)\n",
      "DEBUG:root:gen: 6, param: ({'end_game_p': 0.12857623549669617}, 20.0)\n",
      "DEBUG:root:gen: 7, param: ({'end_game_p': 0.12857623549669617}, 20.0)\n",
      "DEBUG:root:gen: 8, param: ({'end_game_p': 0.12857623549669617}, 20.0)\n",
      "DEBUG:root:gen: 9, param: ({'end_game_p': 0.12857623549669617}, 20.0)\n",
      "DEBUG:root:gen: 10, param: ({'end_game_p': 0.12857623549669617}, 20.0)\n",
      "DEBUG:root:gen: 11, param: ({'end_game_p': 0.12857623549669617}, 20.0)\n",
      "DEBUG:root:gen: 12, param: ({'end_game_p': 0.12857623549669617}, 20.0)\n",
      "DEBUG:root:gen: 13, param: ({'end_game_p': 0.12857623549669617}, 20.0)\n",
      "DEBUG:root:gen: 14, param: ({'end_game_p': 0.12857623549669617}, 20.0)\n",
      "DEBUG:root:gen: 15, param: ({'end_game_p': 0.12857623549669617}, 20.0)\n",
      "DEBUG:root:gen: 16, param: ({'end_game_p': 0.12857623549669617}, 20.0)\n",
      "DEBUG:root:gen: 17, param: ({'end_game_p': 0.12857623549669617}, 20.0)\n",
      "DEBUG:root:gen: 18, param: ({'end_game_p': 0.12857623549669617}, 20.0)\n",
      "DEBUG:root:gen: 19, param: ({'end_game_p': 0.12857623549669617}, 20.0)\n",
      "DEBUG:root:gen: 20, param: ({'end_game_p': 0.12857623549669617}, 20.0)\n",
      "DEBUG:root:gen: 21, param: ({'end_game_p': 0.12857623549669617}, 20.0)\n",
      "DEBUG:root:gen: 22, param: ({'end_game_p': 0.12857623549669617}, 20.0)\n",
      "DEBUG:root:gen: 23, param: ({'end_game_p': 0.12857623549669617}, 20.0)\n",
      "DEBUG:root:gen: 24, param: ({'end_game_p': 0.12857623549669617}, 20.0)\n",
      "DEBUG:root:gen: 25, param: ({'end_game_p': 0.12857623549669617}, 20.0)\n",
      "DEBUG:root:gen: 26, param: ({'end_game_p': 0.12857623549669617}, 20.0)\n",
      "DEBUG:root:gen: 27, param: ({'end_game_p': 0.12857623549669617}, 20.0)\n",
      "DEBUG:root:gen: 28, param: ({'end_game_p': 0.12857623549669617}, 20.0)\n",
      "DEBUG:root:gen: 29, param: ({'end_game_p': 0.12857623549669617}, 20.0)\n",
      "DEBUG:root:gen: 30, param: ({'end_game_p': 0.12857623549669617}, 20.0)\n",
      "DEBUG:root:gen: 31, param: ({'end_game_p': 0.12857623549669617}, 20.0)\n",
      "DEBUG:root:gen: 32, param: ({'end_game_p': 0.12857623549669617}, 20.0)\n",
      "DEBUG:root:gen: 33, param: ({'end_game_p': 0.12857623549669617}, 20.0)\n",
      "DEBUG:root:gen: 34, param: ({'end_game_p': 0.12857623549669617}, 20.0)\n",
      "DEBUG:root:gen: 35, param: ({'end_game_p': 0.12857623549669617}, 20.0)\n",
      "DEBUG:root:gen: 36, param: ({'end_game_p': 0.12857623549669617}, 20.0)\n",
      "DEBUG:root:gen: 37, param: ({'end_game_p': 0.12857623549669617}, 20.0)\n",
      "DEBUG:root:gen: 38, param: ({'end_game_p': 0.12857623549669617}, 20.0)\n",
      "DEBUG:root:gen: 39, param: ({'end_game_p': 0.12857623549669617}, 20.0)\n",
      "DEBUG:root:gen: 40, param: ({'end_game_p': 0.12857623549669617}, 20.0)\n",
      "DEBUG:root:gen: 41, param: ({'end_game_p': 0.12857623549669617}, 20.0)\n",
      "DEBUG:root:gen: 42, param: ({'end_game_p': 0.12857623549669617}, 20.0)\n",
      "DEBUG:root:gen: 43, param: ({'end_game_p': 0.12857623549669617}, 20.0)\n",
      "DEBUG:root:gen: 44, param: ({'end_game_p': 0.12857623549669617}, 20.0)\n",
      "DEBUG:root:gen: 45, param: ({'end_game_p': 0.12857623549669617}, 20.0)\n",
      "DEBUG:root:gen: 46, param: ({'end_game_p': 0.12857623549669617}, 20.0)\n",
      "DEBUG:root:gen: 47, param: ({'end_game_p': 0.12857623549669617}, 20.0)\n",
      "DEBUG:root:gen: 48, param: ({'end_game_p': 0.12857623549669617}, 20.0)\n",
      "DEBUG:root:gen: 49, param: ({'end_game_p': 0.12857623549669617}, 20.0)\n",
      "DEBUG:root:gen: 50, param: ({'end_game_p': 0.12857623549669617}, 20.0)\n",
      "DEBUG:root:gen: 51, param: ({'end_game_p': 0.12857623549669617}, 20.0)\n",
      "DEBUG:root:gen: 52, param: ({'end_game_p': 0.12857623549669617}, 20.0)\n",
      "DEBUG:root:gen: 53, param: ({'end_game_p': 0.12857623549669617}, 20.0)\n",
      "DEBUG:root:gen: 54, param: ({'end_game_p': 0.12857623549669617}, 20.0)\n",
      "DEBUG:root:gen: 55, param: ({'end_game_p': 0.12857623549669617}, 20.0)\n",
      "DEBUG:root:gen: 56, param: ({'end_game_p': 0.12857623549669617}, 20.0)\n",
      "DEBUG:root:gen: 57, param: ({'end_game_p': 0.12857623549669617}, 20.0)\n",
      "DEBUG:root:gen: 58, param: ({'end_game_p': 0.12857623549669617}, 20.0)\n",
      "DEBUG:root:gen: 59, param: ({'end_game_p': 0.12857623549669617}, 20.0)\n",
      "DEBUG:root:gen: 60, param: ({'end_game_p': 0.12857623549669617}, 20.0)\n",
      "DEBUG:root:gen: 61, param: ({'end_game_p': 0.12857623549669617}, 20.0)\n",
      "DEBUG:root:gen: 62, param: ({'end_game_p': 0.12857623549669617}, 20.0)\n",
      "DEBUG:root:gen: 63, param: ({'end_game_p': 0.12857623549669617}, 20.0)\n",
      "DEBUG:root:gen: 64, param: ({'end_game_p': 0.12857623549669617}, 20.0)\n",
      "DEBUG:root:gen: 65, param: ({'end_game_p': 0.12857623549669617}, 20.0)\n",
      "DEBUG:root:gen: 66, param: ({'end_game_p': 0.12857623549669617}, 20.0)\n",
      "DEBUG:root:gen: 67, param: ({'end_game_p': 0.12857623549669617}, 20.0)\n"
     ]
    },
    {
     "ename": "KeyboardInterrupt",
     "evalue": "",
     "output_type": "error",
     "traceback": [
      "\u001b[0;31m---------------------------------------------------------------------------\u001b[0m",
      "\u001b[0;31mKeyboardInterrupt\u001b[0m                         Traceback (most recent call last)",
      "Cell \u001b[0;32mIn [227], line 3\u001b[0m\n\u001b[1;32m      1\u001b[0m logging\u001b[39m.\u001b[39mgetLogger()\u001b[39m.\u001b[39msetLevel(logging\u001b[39m.\u001b[39mDEBUG)\n\u001b[0;32m----> 3\u001b[0m best_param, wr \u001b[39m=\u001b[39m evolve_strategy()\n\u001b[1;32m      4\u001b[0m logging\u001b[39m.\u001b[39minfo(\u001b[39mf\u001b[39m\u001b[39m\"\u001b[39m\u001b[39mbest param: \u001b[39m\u001b[39m{\u001b[39;00mbest_param\u001b[39m}\u001b[39;00m\u001b[39m, wr: \u001b[39m\u001b[39m{\u001b[39;00mwr\u001b[39m}\u001b[39;00m\u001b[39m\"\u001b[39m)\n",
      "Cell \u001b[0;32mIn [226], line 10\u001b[0m, in \u001b[0;36mevolve_strategy\u001b[0;34m()\u001b[0m\n\u001b[1;32m      8\u001b[0m     p \u001b[39m=\u001b[39m select_parent(population)\n\u001b[1;32m      9\u001b[0m     m \u001b[39m=\u001b[39m mutation(p[\u001b[39m0\u001b[39m])\n\u001b[0;32m---> 10\u001b[0m     offspring[m[\u001b[39m\"\u001b[39m\u001b[39mend_game_p\u001b[39m\u001b[39m\"\u001b[39m]] \u001b[39m=\u001b[39m ((m, evaluate_mean(m)))\n\u001b[1;32m     11\u001b[0m population \u001b[39m=\u001b[39m \u001b[39msorted\u001b[39m(population \u001b[39m+\u001b[39m \u001b[39mlist\u001b[39m(offspring\u001b[39m.\u001b[39mvalues()), key\u001b[39m=\u001b[39m\u001b[39mlambda\u001b[39;00m i: \u001b[39m-\u001b[39mi[\u001b[39m1\u001b[39m])[:POPULATION_SIZE]\n\u001b[1;32m     12\u001b[0m logging\u001b[39m.\u001b[39mdebug(\u001b[39mf\u001b[39m\u001b[39m\"\u001b[39m\u001b[39mgen: \u001b[39m\u001b[39m{\u001b[39;00mgenerations\u001b[39m}\u001b[39;00m\u001b[39m, param: \u001b[39m\u001b[39m{\u001b[39;00mpopulation[\u001b[39m0\u001b[39m]\u001b[39m}\u001b[39;00m\u001b[39m\"\u001b[39m)\n",
      "Cell \u001b[0;32mIn [225], line 4\u001b[0m, in \u001b[0;36mevaluate_mean\u001b[0;34m(params)\u001b[0m\n\u001b[1;32m      2\u001b[0m wr \u001b[39m=\u001b[39m []\n\u001b[1;32m      3\u001b[0m K \u001b[39m=\u001b[39m \u001b[39m5\u001b[39m \u001b[39m# number of evaluation\u001b[39;00m\n\u001b[0;32m----> 4\u001b[0m wr\u001b[39m.\u001b[39mappend(evaluate(make_strategy(params), pure_random))\n\u001b[1;32m      5\u001b[0m \u001b[39mreturn\u001b[39;00m \u001b[39msum\u001b[39m(wr) \u001b[39m/\u001b[39m K\n",
      "Cell \u001b[0;32mIn [13], line 15\u001b[0m, in \u001b[0;36mevaluate\u001b[0;34m(strategy, opponent_strategy)\u001b[0m\n\u001b[1;32m     13\u001b[0m player \u001b[39m=\u001b[39m \u001b[39m1\u001b[39m \u001b[39mif\u001b[39;00m random\u001b[39m.\u001b[39mrandom() \u001b[39m<\u001b[39m \u001b[39m0.5\u001b[39m \u001b[39melse\u001b[39;00m \u001b[39m0\u001b[39m\n\u001b[1;32m     14\u001b[0m \u001b[39mwhile\u001b[39;00m nim:\n\u001b[0;32m---> 15\u001b[0m     ply \u001b[39m=\u001b[39m opponent[player](nim)\n\u001b[1;32m     16\u001b[0m     nim\u001b[39m.\u001b[39mnimming(ply)\n\u001b[1;32m     17\u001b[0m     player \u001b[39m=\u001b[39m \u001b[39m1\u001b[39m \u001b[39m-\u001b[39m player\n",
      "Cell \u001b[0;32mIn [181], line 3\u001b[0m, in \u001b[0;36mmake_strategy.<locals>.evolvable\u001b[0;34m(state)\u001b[0m\n\u001b[1;32m      2\u001b[0m \u001b[39mdef\u001b[39;00m \u001b[39mevolvable\u001b[39m(state: Nim) \u001b[39m-\u001b[39m\u001b[39m>\u001b[39m Nimply:\n\u001b[0;32m----> 3\u001b[0m     data \u001b[39m=\u001b[39m cook_status(state)\n\u001b[1;32m      5\u001b[0m     end_game_threshold \u001b[39m=\u001b[39m data[\u001b[39m\"\u001b[39m\u001b[39mactive_rows_number\u001b[39m\u001b[39m\"\u001b[39m] \u001b[39m/\u001b[39m \u001b[39mlen\u001b[39m(state\u001b[39m.\u001b[39mrows)\n\u001b[1;32m      7\u001b[0m     \u001b[39mif\u001b[39;00m genome[\u001b[39m\"\u001b[39m\u001b[39mend_game_p\u001b[39m\u001b[39m\"\u001b[39m] \u001b[39m>\u001b[39m end_game_threshold:\n",
      "Cell \u001b[0;32mIn [19], line 6\u001b[0m, in \u001b[0;36mcook_status\u001b[0;34m(state)\u001b[0m\n\u001b[1;32m      4\u001b[0m cooked[\u001b[39m\"\u001b[39m\u001b[39mactive_rows_number\u001b[39m\u001b[39m\"\u001b[39m] \u001b[39m=\u001b[39m \u001b[39msum\u001b[39m(o \u001b[39m>\u001b[39m \u001b[39m0\u001b[39m \u001b[39mfor\u001b[39;00m o \u001b[39min\u001b[39;00m state\u001b[39m.\u001b[39mrows)\n\u001b[1;32m      5\u001b[0m cooked[\u001b[39m\"\u001b[39m\u001b[39monce_rows_number\u001b[39m\u001b[39m\"\u001b[39m] \u001b[39m=\u001b[39m \u001b[39msum\u001b[39m(o \u001b[39m==\u001b[39m \u001b[39m1\u001b[39m \u001b[39mfor\u001b[39;00m o \u001b[39min\u001b[39;00m state\u001b[39m.\u001b[39mrows)\n\u001b[0;32m----> 6\u001b[0m cooked[\u001b[39m\"\u001b[39m\u001b[39mshortest_row\u001b[39m\u001b[39m\"\u001b[39m] \u001b[39m=\u001b[39m \u001b[39mmin\u001b[39m((x \u001b[39mfor\u001b[39;00m x \u001b[39min\u001b[39;00m \u001b[39menumerate\u001b[39m(state\u001b[39m.\u001b[39mrows) \u001b[39mif\u001b[39;00m x[\u001b[39m1\u001b[39m] \u001b[39m>\u001b[39m \u001b[39m0\u001b[39m), key\u001b[39m=\u001b[39m\u001b[39mlambda\u001b[39;00m y: y[\u001b[39m1\u001b[39m])[\u001b[39m0\u001b[39m]\n\u001b[1;32m      7\u001b[0m cooked[\u001b[39m\"\u001b[39m\u001b[39mlongest_row\u001b[39m\u001b[39m\"\u001b[39m] \u001b[39m=\u001b[39m \u001b[39mmax\u001b[39m((x \u001b[39mfor\u001b[39;00m x \u001b[39min\u001b[39;00m \u001b[39menumerate\u001b[39m(state\u001b[39m.\u001b[39mrows)), key\u001b[39m=\u001b[39m\u001b[39mlambda\u001b[39;00m y: y[\u001b[39m1\u001b[39m])\n\u001b[1;32m      9\u001b[0m \u001b[39mreturn\u001b[39;00m cooked\n",
      "\u001b[0;31mKeyboardInterrupt\u001b[0m: "
     ]
    }
   ],
   "source": [
    "logging.getLogger().setLevel(logging.DEBUG)\n",
    "\n",
    "best_param, wr = evolve_strategy()\n",
    "logging.info(f\"best param: {best_param}, wr: {wr}\")"
   ]
  }
 ],
 "metadata": {
  "kernelspec": {
   "display_name": "Python 3.10.6 ('ci22-lab1-pb7rnfJb-py3.10')",
   "language": "python",
   "name": "python3"
  },
  "language_info": {
   "codemirror_mode": {
    "name": "ipython",
    "version": 3
   },
   "file_extension": ".py",
   "mimetype": "text/x-python",
   "name": "python",
   "nbconvert_exporter": "python",
   "pygments_lexer": "ipython3",
   "version": "3.10.6"
  },
  "vscode": {
   "interpreter": {
    "hash": "89faae0d5f427155df7c4a610630daa50fb3e2048b3f01ad72b2adbfa4d89941"
   }
  }
 },
 "nbformat": 4,
 "nbformat_minor": 2
}
