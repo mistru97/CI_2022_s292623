{
 "cells": [
  {
   "cell_type": "markdown",
   "metadata": {
    "pycharm": {
     "name": "#%% md\n"
    }
   },
   "source": [
    "Copyright **`(c)`** 2022 Giovanni Squillero `<squillero@polito.it>`  \n",
    "[`https://github.com/squillero/computational-intelligence`](https://github.com/squillero/computational-intelligence)  \n",
    "Free for personal or classroom use; see [`LICENSE.md`](https://github.com/squillero/computational-intelligence/blob/master/LICENSE.md) for details.  \n"
   ]
  },
  {
   "cell_type": "markdown",
   "metadata": {
    "pycharm": {
     "name": "#%%\n"
    }
   },
   "source": [
    "# Lab 3: Policy Search\n",
    "\n",
    "## Task\n",
    "\n",
    "Write agents able to play [*Nim*](https://en.wikipedia.org/wiki/Nim), with an arbitrary number of rows and an upper bound $k$ on the number of objects that can be removed in a turn (a.k.a., *subtraction game*).\n",
    "\n",
    "The player **taking the last object wins**.\n",
    "\n",
    "* Task3.1: An agent using fixed rules based on *nim-sum* (i.e., an *expert system*)\n",
    "* Task3.2: An agent using evolved rules\n",
    "* Task3.3: An agent using minmax\n",
    "* Task3.4: An agent using reinforcement learning\n",
    "\n",
    "## Instructions\n",
    "\n",
    "* Create the directory `lab3` inside the course repo \n",
    "* Put a `README.md` and your solution (all the files, code and auxiliary data if needed)\n",
    "\n",
    "## Notes\n",
    "\n",
    "* Working in group is not only allowed, but recommended (see: [Ubuntu](https://en.wikipedia.org/wiki/Ubuntu_philosophy) and [Cooperative Learning](https://files.eric.ed.gov/fulltext/EJ1096789.pdf)). Collaborations must be explicitly declared in the `README.md`.\n",
    "* [Yanking](https://www.emacswiki.org/emacs/KillingAndYanking) from the internet is allowed, but sources must be explicitly declared in the `README.md`.\n",
    "\n",
    "## Deadlines ([AoE](https://en.wikipedia.org/wiki/Anywhere_on_Earth))\n",
    "\n",
    "* Sunday, December 4th for Task3.1 and Task3.2\n",
    "* Sunday, December 11th for Task3.3 and Task3.4\n",
    "* Sunday, December 18th for all reviews"
   ]
  },
  {
   "cell_type": "code",
   "execution_count": 376,
   "metadata": {},
   "outputs": [],
   "source": [
    "import logging\n",
    "from collections import namedtuple\n",
    "import random\n",
    "from typing import Callable\n",
    "from copy import deepcopy\n",
    "from itertools import accumulate\n",
    "from operator import xor\n",
    "import math"
   ]
  },
  {
   "cell_type": "markdown",
   "metadata": {},
   "source": [
    "## The *Nim* and *Nimply* classes"
   ]
  },
  {
   "cell_type": "code",
   "execution_count": 333,
   "metadata": {},
   "outputs": [],
   "source": [
    "Nimply = namedtuple(\"Nimply\", \"row, num_objects\")"
   ]
  },
  {
   "cell_type": "code",
   "execution_count": 334,
   "metadata": {},
   "outputs": [],
   "source": [
    "class Nim:\n",
    "    def __init__(self, num_rows: int, k: int = None) -> None:\n",
    "        self._rows = [i * 2 + 1 for i in range(num_rows)]\n",
    "        self._k = k\n",
    "\n",
    "    def __bool__(self):\n",
    "        return sum(self._rows) > 0\n",
    "\n",
    "    def __str__(self):\n",
    "        return \"<\" + \" \".join(str(_) for _ in self._rows) + \">\"\n",
    "\n",
    "    @property\n",
    "    def rows(self) -> tuple:\n",
    "        return tuple(self._rows)\n",
    "\n",
    "    @property\n",
    "    def k(self) -> int:\n",
    "        return self._k\n",
    "\n",
    "    def nimming(self, ply: Nimply) -> None:\n",
    "        row, num_objects = ply\n",
    "        assert self._rows[row] >= num_objects\n",
    "        assert self._k is None or num_objects <= self._k\n",
    "        self._rows[row] -= num_objects"
   ]
  },
  {
   "cell_type": "markdown",
   "metadata": {},
   "source": [
    "## Sample (and silly) startegies "
   ]
  },
  {
   "cell_type": "code",
   "execution_count": 335,
   "metadata": {},
   "outputs": [],
   "source": [
    "def pure_random(state: Nim) -> Nimply:\n",
    "    row = random.choice([r for r, c in enumerate(state.rows) if c > 0])\n",
    "    num_objects = random.randint(1, state.rows[row])\n",
    "    return Nimply(row, num_objects)"
   ]
  },
  {
   "cell_type": "code",
   "execution_count": 336,
   "metadata": {},
   "outputs": [],
   "source": [
    "def gabriele(state: Nim) -> Nimply:\n",
    "    \"\"\"Pick always the maximum possible number of the lowest row\"\"\"\n",
    "    possible_moves = [(r, o) for r, c in enumerate(state.rows) for o in range(1, c + 1)]\n",
    "    return Nimply(*max(possible_moves, key=lambda m: (-m[0], m[1])))"
   ]
  },
  {
   "cell_type": "markdown",
   "metadata": {},
   "source": [
    "## Evaluation on *NUM_MATCHES* matches for *NIM_SIZE* size nim "
   ]
  },
  {
   "cell_type": "code",
   "execution_count": 337,
   "metadata": {},
   "outputs": [],
   "source": [
    "NUM_MATCHES = 100\n",
    "NIM_SIZE = 25\n",
    "\n",
    "def evaluate(strategy: Callable, opponent_strategy: Callable) -> float:\n",
    "    opponent = (strategy, opponent_strategy)\n",
    "    won = 0\n",
    "\n",
    "    for game_num in range(NUM_MATCHES):\n",
    "        # nim = Nim(NIM_SIZE)\n",
    "        nim = Nim(random.randint(10,20))\n",
    "        player = 1 if random.random() < 0.5 else 0\n",
    "        while nim:\n",
    "            ply = opponent[player](nim)\n",
    "            nim.nimming(ply)\n",
    "            player = 1 - player\n",
    "        if player == 1:\n",
    "            won += 1\n",
    "        # logging.debug(f\"end of game: {game_num + 1}\")\n",
    "    return won / NUM_MATCHES * 100"
   ]
  },
  {
   "cell_type": "markdown",
   "metadata": {},
   "source": [
    "## Task 1: expert system"
   ]
  },
  {
   "cell_type": "code",
   "execution_count": 338,
   "metadata": {},
   "outputs": [],
   "source": [
    "def nim_sum(state: Nim) -> int:\n",
    "    *_, result = accumulate(state.rows, xor)\n",
    "    return result"
   ]
  },
  {
   "cell_type": "code",
   "execution_count": 339,
   "metadata": {},
   "outputs": [],
   "source": [
    "def expert_strategy_nim(state: Nim) -> Nimply:\n",
    "    '''\n",
    "    Strategy that apply the nim sum on next move to select the best one\n",
    "    '''\n",
    "\n",
    "    max_row_num = 0 # hold the row number of row with max objects\n",
    "\n",
    "    for (row_num, num_objects) in enumerate(state.rows):\n",
    "        if state.rows[max_row_num] < num_objects:\n",
    "            max_row_num = row_num \n",
    "        for num_new_objects in range (1, state.k if (state._k != None and num_objects >= state.k) else num_objects+1):\n",
    "            next_move = (row_num, num_new_objects)\n",
    "            tmp_state = deepcopy(state)\n",
    "            tmp_state.nimming(next_move)\n",
    "            if nim_sum(tmp_state) == 0:\n",
    "                return next_move\n",
    "\n",
    "    # if do not find a nim_sum = 0 for next move do the move with less impact (remove 1 object from the row with most objects)\n",
    "    less_impact_move =  (max_row_num, 1)\n",
    "    return less_impact_move"
   ]
  },
  {
   "cell_type": "markdown",
   "metadata": {},
   "source": [
    "My expert agent solution:"
   ]
  },
  {
   "cell_type": "code",
   "execution_count": 340,
   "metadata": {},
   "outputs": [],
   "source": [
    "def expert_strategy(state: Nim) -> Nimply:\n",
    "    '''\n",
    "    My fixed strategy to play nim: the objective is to have in the end game all onece row and a odd number of rows\n",
    "    '''\n",
    "    longest_row = max((x for x in enumerate(state.rows)), key=lambda y: y[1])\n",
    "    row_to_one_number = sum(o == 1 for o in state.rows)\n",
    "    active_row_number = sum(o > 0 for o in state.rows)\n",
    "\n",
    "    if row_to_one_number % 2 == 1:\n",
    "        if active_row_number - row_to_one_number > 0:\n",
    "            ply = (longest_row[0], longest_row[1] - 1) # make the longest row of 1 element\n",
    "        else:\n",
    "            ply = (longest_row[0], longest_row[1]) # zero one row\n",
    "    else:\n",
    "        ply = (longest_row[0], longest_row[1]) # zero one row\n",
    "\n",
    "    return ply\n"
   ]
  },
  {
   "cell_type": "markdown",
   "metadata": {},
   "source": [
    "try to do stuff, ignore this"
   ]
  },
  {
   "cell_type": "code",
   "execution_count": 341,
   "metadata": {},
   "outputs": [],
   "source": [
    "def variable_expert_strategy():\n",
    "    call_num = 0.\n",
    "    def call(state: Nim) -> Nimply:\n",
    "        max_row_num = 0 # hold the row number of row with max objects\n",
    "        p = call_num / NUM_MATCHES\n",
    "        call_num += 1\n",
    "        if random.random() < p:\n",
    "            for (row_num, num_objects) in enumerate(state.rows):\n",
    "                if state.rows[max_row_num] < num_objects:\n",
    "                    max_row_num = row_num \n",
    "                for num_new_objects in range (1, state.k if (state._k != None and num_objects >= state.k) else num_objects+1):\n",
    "                    next_move = (row_num, num_new_objects)\n",
    "                    tmp_state = deepcopy(state)\n",
    "                    tmp_state.nimming(next_move)\n",
    "                    if nim_sum(tmp_state) == 0:\n",
    "                        return next_move\n",
    "\n",
    "            # if do not find a nim_sum = 0 for next move do the move with less impact (remove 1 object from the row with most objects)\n",
    "            less_impact_move =  (max_row_num, 1)\n",
    "            return less_impact_move\n",
    "        else:\n",
    "            return pure_random(state)\n",
    "    return call\n"
   ]
  },
  {
   "cell_type": "markdown",
   "metadata": {},
   "source": [
    "Results of expert agent and nim_sum one:"
   ]
  },
  {
   "cell_type": "code",
   "execution_count": 375,
   "metadata": {},
   "outputs": [
    {
     "name": "stderr",
     "output_type": "stream",
     "text": [
      "INFO:root:status: best strategy won vs random strategy 100.0% of matches\n",
      "INFO:root:status: expert player won vs random strategy 93.57% of matches\n"
     ]
    }
   ],
   "source": [
    "logging.getLogger().setLevel(logging.INFO)\n",
    "res = evaluate(expert_strategy_nim, pure_random)\n",
    "logging.info(f\"status: best strategy won vs random strategy {res}% of matches\")\n",
    "\n",
    "K = 100\n",
    "res = []\n",
    "while len(res) < K:\n",
    "    res.append(evaluate(expert_strategy, pure_random))\n",
    "logging.info(f\"status: expert player won vs random strategy {sum(res)/K}% of matches\")"
   ]
  },
  {
   "cell_type": "markdown",
   "metadata": {},
   "source": [
    "## Task 2: evolved strategy"
   ]
  },
  {
   "cell_type": "markdown",
   "metadata": {},
   "source": [
    "Function to calculate different metrics"
   ]
  },
  {
   "cell_type": "code",
   "execution_count": 343,
   "metadata": {},
   "outputs": [],
   "source": [
    "def cook_status(state: Nim) -> dict:\n",
    "    cooked = dict()\n",
    "    cooked[\"possible_moves\"] = [(r, o) for r, c in enumerate(state.rows) for o in range(1, state.k if (state._k != None and c >= state.k) else c+1)]\n",
    "    cooked[\"active_rows_number\"] = sum(o > 0 for o in state.rows)\n",
    "    cooked[\"rows_to_one_number\"] = sum(o == 1 for o in state.rows)\n",
    "    cooked[\"shortest_row\"] = min((x for x in enumerate(state.rows) if x[1] > 0), key=lambda y: y[1])[0]\n",
    "    cooked[\"longest_row\"] = max((x for x in enumerate(state.rows)), key=lambda y: y[1])\n",
    "\n",
    "    return cooked"
   ]
  },
  {
   "cell_type": "markdown",
   "metadata": {},
   "source": [
    "My evloved strategy (evaluated vs a pure_random strategy):\n",
    "\n",
    "- change_strat_p is a param to choose between the fixed rule strategy and the other\n",
    "- reduce_row_p is a param to select how many object remove from a row when the fixed rule strategy is not applied"
   ]
  },
  {
   "cell_type": "code",
   "execution_count": 377,
   "metadata": {},
   "outputs": [],
   "source": [
    "def make_strategy(genome: dict) -> Callable:\n",
    "    def evolvable(state: Nim) -> Nimply:\n",
    "        data = cook_status(state)\n",
    "\n",
    "        change_strat_threshold = data[\"active_rows_number\"] / len(state.rows)\n",
    "        \n",
    "        if change_strat_threshold > genome[\"change_strat_p\"]:\n",
    "            if data[\"longest_row\"][1] > 1: # check if the longest row is grather than 1\n",
    "                ply = (data[\"longest_row\"][0], math.ceil(data[\"longest_row\"][1]*genome[\"reduce_row_p\"]) ) # reduce the longest row with param\n",
    "            else:\n",
    "                ply = (data[\"longest_row\"][0], data[\"longest_row\"][1]) # zero the row\n",
    "        elif data[\"rows_to_one_number\"] % 2 == 1:\n",
    "            if data[\"active_rows_number\"] - data[\"rows_to_one_number\"] > 0:\n",
    "                ply = (data[\"longest_row\"][0], data[\"longest_row\"][1] - 1) # make the longest row of 1 element\n",
    "            else:\n",
    "                ply = (data[\"longest_row\"][0], data[\"longest_row\"][1]) # zero one row\n",
    "        else:\n",
    "            ply = (data[\"longest_row\"][0], data[\"longest_row\"][1]) # zero one row\n",
    "\n",
    "        return ply\n",
    "\n",
    "    return evolvable"
   ]
  },
  {
   "cell_type": "markdown",
   "metadata": {},
   "source": [
    "Parameters of ga:"
   ]
  },
  {
   "cell_type": "code",
   "execution_count": 345,
   "metadata": {},
   "outputs": [],
   "source": [
    "POPULATION_SIZE = 50\n",
    "OFFSPRING_SIZE = 20\n",
    "N = 20 # max number of generation to tune params"
   ]
  },
  {
   "cell_type": "markdown",
   "metadata": {},
   "source": [
    "Parent selection and mutation functions:"
   ]
  },
  {
   "cell_type": "code",
   "execution_count": 393,
   "metadata": {},
   "outputs": [],
   "source": [
    "def select_parent(population, tournament_size=2):\n",
    "    return max(random.choices(population, k=tournament_size), key= lambda i: i[1])\n",
    "\n",
    "def mutation(g):\n",
    "    tmp = deepcopy(g)\n",
    "    param_key = random.choice(list(tmp.keys()))\n",
    "    if random.random() < 0.5 and g[param_key] > 0.005:\n",
    "        tmp[param_key] = g[param_key] -0.005\n",
    "    elif g[param_key] <= 0.995:\n",
    "        tmp[param_key] = g[param_key] +0.005\n",
    "    return tmp"
   ]
  },
  {
   "cell_type": "markdown",
   "metadata": {},
   "source": [
    "Function to retrieve the mean of the winrate based on K evaluation:"
   ]
  },
  {
   "cell_type": "code",
   "execution_count": 387,
   "metadata": {},
   "outputs": [],
   "source": [
    "def evaluate_mean(params):\n",
    "    wr = []\n",
    "    K = 10 # number of evaluation\n",
    "    for _ in range(K):\n",
    "        wr.append(evaluate(make_strategy(params), pure_random))\n",
    "    return sum(wr) / K"
   ]
  },
  {
   "cell_type": "markdown",
   "metadata": {},
   "source": [
    "Function to init the population:"
   ]
  },
  {
   "cell_type": "code",
   "execution_count": 348,
   "metadata": {},
   "outputs": [],
   "source": [
    "def init_population():\n",
    "    return [(_, evaluate_mean(_)) for _ in [{\"change_strat_p\": random.random(), \"reduce_row_p\": random.random()} for __ in range(POPULATION_SIZE)]]"
   ]
  },
  {
   "cell_type": "code",
   "execution_count": 391,
   "metadata": {},
   "outputs": [],
   "source": [
    "def evolve_strategy():\n",
    "    population = init_population()\n",
    "    logging.debug(f\"init of population complete\")\n",
    "    generations = 0\n",
    "    while generations < N:\n",
    "        generations += 1\n",
    "        offspring = {} # use a dictionary to avoid duplicate in offspring\n",
    "        while len(offspring) < OFFSPRING_SIZE:\n",
    "            p = select_parent(population)\n",
    "            m = mutation(p[0])\n",
    "            offspring[str(m)] = ((m, evaluate_mean(m)))\n",
    "        population = sorted(population + list(offspring.values()), key=lambda i: i[1], reverse=True)[:POPULATION_SIZE]\n",
    "        logging.debug(f\"gen: {generations}, param: {population[0]}\")\n",
    "    return population[0]"
   ]
  },
  {
   "cell_type": "code",
   "execution_count": 394,
   "metadata": {},
   "outputs": [
    {
     "name": "stderr",
     "output_type": "stream",
     "text": [
      "DEBUG:root:init of population complete\n",
      "DEBUG:root:gen: 1, param: ({'change_strat_p': 0.7332969506894308, 'reduce_row_p': 0.7951256702428743}, 94.4)\n",
      "DEBUG:root:gen: 2, param: ({'change_strat_p': 0.7332969506894308, 'reduce_row_p': 0.7951256702428743}, 94.4)\n",
      "DEBUG:root:gen: 3, param: ({'change_strat_p': 0.7432969506894308, 'reduce_row_p': 0.7951256702428743}, 95.5)\n",
      "DEBUG:root:gen: 4, param: ({'change_strat_p': 0.7432969506894308, 'reduce_row_p': 0.7951256702428743}, 95.5)\n",
      "DEBUG:root:gen: 5, param: ({'change_strat_p': 0.7432969506894308, 'reduce_row_p': 0.7951256702428743}, 95.5)\n",
      "DEBUG:root:gen: 6, param: ({'change_strat_p': 0.7576744743832007, 'reduce_row_p': 0.8434549438309593}, 94.9)\n",
      "DEBUG:root:gen: 7, param: ({'change_strat_p': 0.7432969506894308, 'reduce_row_p': 0.7951256702428743}, 95.5)\n",
      "DEBUG:root:gen: 8, param: ({'change_strat_p': 0.7432969506894308, 'reduce_row_p': 0.7951256702428743}, 95.5)\n",
      "DEBUG:root:gen: 9, param: ({'change_strat_p': 0.7432969506894308, 'reduce_row_p': 0.7951256702428743}, 95.5)\n",
      "DEBUG:root:gen: 10, param: ({'change_strat_p': 0.7382969506894308, 'reduce_row_p': 0.7851256702428743}, 95.0)\n",
      "DEBUG:root:gen: 11, param: ({'change_strat_p': 0.7432969506894308, 'reduce_row_p': 0.7951256702428743}, 95.5)\n",
      "DEBUG:root:gen: 12, param: ({'change_strat_p': 0.7332969506894308, 'reduce_row_p': 0.7901256702428743}, 95.6)\n",
      "DEBUG:root:gen: 13, param: ({'change_strat_p': 0.7332969506894308, 'reduce_row_p': 0.7901256702428743}, 95.6)\n",
      "DEBUG:root:gen: 14, param: ({'change_strat_p': 0.7332969506894308, 'reduce_row_p': 0.7901256702428743}, 95.6)\n",
      "DEBUG:root:gen: 15, param: ({'change_strat_p': 0.7432969506894308, 'reduce_row_p': 0.7951256702428743}, 95.5)\n",
      "DEBUG:root:gen: 16, param: ({'change_strat_p': 0.7332969506894308, 'reduce_row_p': 0.7901256702428743}, 95.6)\n",
      "DEBUG:root:gen: 17, param: ({'change_strat_p': 0.7332969506894308, 'reduce_row_p': 0.7901256702428743}, 95.6)\n",
      "DEBUG:root:gen: 18, param: ({'change_strat_p': 0.7332969506894308, 'reduce_row_p': 0.7901256702428743}, 95.6)\n",
      "DEBUG:root:gen: 19, param: ({'change_strat_p': 0.7432969506894308, 'reduce_row_p': 0.7951256702428743}, 95.5)\n",
      "DEBUG:root:gen: 20, param: ({'change_strat_p': 0.7332969506894308, 'reduce_row_p': 0.7901256702428743}, 95.6)\n",
      "INFO:root:best param: {'change_strat_p': 0.7332969506894308, 'reduce_row_p': 0.7901256702428743}, wr: 95.6\n"
     ]
    }
   ],
   "source": [
    "logging.getLogger().setLevel(logging.DEBUG)\n",
    "\n",
    "best_param, wr = evolve_strategy()\n",
    "logging.info(f\"best param: {best_param}, wr: {wr}\")"
   ]
  }
 ],
 "metadata": {
  "kernelspec": {
   "display_name": "Python 3.10.6 ('ci22-lab1-pb7rnfJb-py3.10')",
   "language": "python",
   "name": "python3"
  },
  "language_info": {
   "codemirror_mode": {
    "name": "ipython",
    "version": 3
   },
   "file_extension": ".py",
   "mimetype": "text/x-python",
   "name": "python",
   "nbconvert_exporter": "python",
   "pygments_lexer": "ipython3",
   "version": "3.10.6"
  },
  "vscode": {
   "interpreter": {
    "hash": "89faae0d5f427155df7c4a610630daa50fb3e2048b3f01ad72b2adbfa4d89941"
   }
  }
 },
 "nbformat": 4,
 "nbformat_minor": 2
}
